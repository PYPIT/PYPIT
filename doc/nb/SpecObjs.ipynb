{
 "cells": [
  {
   "cell_type": "markdown",
   "metadata": {},
   "source": [
    "# Developing SpecObjs [v2.1]\n",
    "    v2 -- Converting specobjs to be a numpy array instead of a list\n",
    "    v2.1 -- Set method"
   ]
  },
  {
   "cell_type": "code",
   "execution_count": 1,
   "metadata": {
    "collapsed": true
   },
   "outputs": [],
   "source": [
    "# imports\n",
    "import numpy as np\n",
    "from importlib import reload\n",
    "\n",
    "from pypeit import specobjs"
   ]
  },
  {
   "cell_type": "markdown",
   "metadata": {},
   "source": [
    "## Instantiate a null"
   ]
  },
  {
   "cell_type": "code",
   "execution_count": 2,
   "metadata": {
    "collapsed": true
   },
   "outputs": [],
   "source": [
    "sobjs = specobjs.SpecObjs()"
   ]
  },
  {
   "cell_type": "code",
   "execution_count": 3,
   "metadata": {
    "scrolled": true
   },
   "outputs": [
    {
     "data": {
      "text/plain": [
       "<Table length=0>\n",
       "<No columns>"
      ]
     },
     "execution_count": 3,
     "metadata": {},
     "output_type": "execute_result"
    }
   ],
   "source": [
    "sobjs"
   ]
  },
  {
   "cell_type": "markdown",
   "metadata": {},
   "source": [
    "## Now with a few specobj"
   ]
  },
  {
   "cell_type": "markdown",
   "metadata": {},
   "source": [
    "### Make em"
   ]
  },
  {
   "cell_type": "code",
   "execution_count": 4,
   "metadata": {
    "collapsed": true
   },
   "outputs": [],
   "source": [
    "shape = (1024,2048)"
   ]
  },
  {
   "cell_type": "code",
   "execution_count": 5,
   "metadata": {},
   "outputs": [
    {
     "data": {
      "text/plain": [
       "<Table length=1>\n",
       " shape [2]   slit_spat_pos [2] slit_spec_pos ... boxcar optimal\n",
       "   int64          float64         float64    ... object  object\n",
       "------------ ----------------- ------------- ... ------ -------\n",
       "1024 .. 2048    800.0 .. 810.0        1240.0 ...     {}      {}"
      ]
     },
     "execution_count": 5,
     "metadata": {},
     "output_type": "execute_result"
    }
   ],
   "source": [
    "sobj1 = specobjs.SpecObj(shape, (800., 810.), 1240.)\n",
    "sobj1"
   ]
  },
  {
   "cell_type": "code",
   "execution_count": 6,
   "metadata": {},
   "outputs": [
    {
     "data": {
      "text/plain": [
       "<Table length=1>\n",
       " shape [2]   slit_spat_pos [2] slit_spec_pos ... boxcar optimal\n",
       "   int64          float64         float64    ... object  object\n",
       "------------ ----------------- ------------- ... ------ -------\n",
       "1024 .. 2048    400.0 .. 430.0        1240.0 ...     {}      {}"
      ]
     },
     "execution_count": 6,
     "metadata": {},
     "output_type": "execute_result"
    }
   ],
   "source": [
    "sobj2 = specobjs.SpecObj(shape, (400., 430.), 1240.)\n",
    "sobj2"
   ]
  },
  {
   "cell_type": "code",
   "execution_count": 7,
   "metadata": {},
   "outputs": [
    {
     "data": {
      "text/plain": [
       "{'HAND_EXTRACT_DET': None,\n",
       " 'HAND_EXTRACT_FLAG': False,\n",
       " 'HAND_EXTRACT_FWHM': None,\n",
       " 'HAND_EXTRACT_SPAT': None,\n",
       " 'HAND_EXTRACT_SPEC': None,\n",
       " 'boxcar': {},\n",
       " 'config': None,\n",
       " 'det': 1,\n",
       " 'fwhm': None,\n",
       " 'idx': 'O-----S999-D01-I0001',\n",
       " 'maskwidth': None,\n",
       " 'maxcol': None,\n",
       " 'mincol': None,\n",
       " 'objid': None,\n",
       " 'objtype': 'unknown',\n",
       " 'optimal': {},\n",
       " 'scidx': 1,\n",
       " 'setup': None,\n",
       " 'shape': (1024, 2048),\n",
       " 'slit_spat_pos': (800.0, 810.0),\n",
       " 'slit_spec_pos': 1240.0,\n",
       " 'slitid': 999,\n",
       " 'smash_peakflux': None,\n",
       " 'spat_fracpos': None,\n",
       " 'spat_pixpos': None,\n",
       " 'trace_spat': None,\n",
       " 'trace_spec': None}"
      ]
     },
     "execution_count": 7,
     "metadata": {},
     "output_type": "execute_result"
    }
   ],
   "source": [
    "sobj1.__dict__"
   ]
  },
  {
   "cell_type": "markdown",
   "metadata": {},
   "source": [
    "### Add em"
   ]
  },
  {
   "cell_type": "code",
   "execution_count": 8,
   "metadata": {
    "collapsed": true
   },
   "outputs": [],
   "source": [
    "sobjs.specobjs = np.array([sobj1, sobj2])\n",
    "sobjs.build_summary()"
   ]
  },
  {
   "cell_type": "code",
   "execution_count": 9,
   "metadata": {},
   "outputs": [
    {
     "data": {
      "text/plain": [
       "<Table length=2>\n",
       " shape [2]   slit_spat_pos [2] slit_spec_pos ... boxcar optimal\n",
       "   int64          float64         float64    ... object  object\n",
       "------------ ----------------- ------------- ... ------ -------\n",
       "1024 .. 2048    800.0 .. 810.0        1240.0 ...     {}      {}\n",
       "1024 .. 2048    400.0 .. 430.0        1240.0 ...     {}      {}"
      ]
     },
     "execution_count": 9,
     "metadata": {},
     "output_type": "execute_result"
    }
   ],
   "source": [
    "sobjs"
   ]
  },
  {
   "cell_type": "markdown",
   "metadata": {},
   "source": [
    "## Call me"
   ]
  },
  {
   "cell_type": "code",
   "execution_count": 10,
   "metadata": {},
   "outputs": [
    {
     "data": {
      "text/plain": [
       "(1024, 2048)"
      ]
     },
     "execution_count": 10,
     "metadata": {},
     "output_type": "execute_result"
    }
   ],
   "source": [
    "sobjs[0]['shape']"
   ]
  },
  {
   "cell_type": "code",
   "execution_count": 11,
   "metadata": {},
   "outputs": [
    {
     "data": {
      "text/plain": [
       "array([[1024, 2048],\n",
       "       [1024, 2048]])"
      ]
     },
     "execution_count": 11,
     "metadata": {},
     "output_type": "execute_result"
    }
   ],
   "source": [
    "sobjs['shape']"
   ]
  },
  {
   "cell_type": "markdown",
   "metadata": {
    "collapsed": true
   },
   "source": [
    "## Add a new obj"
   ]
  },
  {
   "cell_type": "code",
   "execution_count": 12,
   "metadata": {},
   "outputs": [
    {
     "data": {
      "text/plain": [
       "<Table length=1>\n",
       " shape [2]   slit_spat_pos [2] slit_spec_pos ... boxcar optimal\n",
       "   int64          float64         float64    ... object  object\n",
       "------------ ----------------- ------------- ... ------ -------\n",
       "1024 .. 2048    200.0 .. 220.0        1240.0 ...     {}      {}"
      ]
     },
     "execution_count": 12,
     "metadata": {},
     "output_type": "execute_result"
    }
   ],
   "source": [
    "sobj3 = specobjs.SpecObj(shape, (200., 220.), 1240.)\n",
    "sobj3"
   ]
  },
  {
   "cell_type": "code",
   "execution_count": 13,
   "metadata": {
    "collapsed": true
   },
   "outputs": [],
   "source": [
    "sobjs.add_sobj(sobj3)"
   ]
  },
  {
   "cell_type": "code",
   "execution_count": 14,
   "metadata": {},
   "outputs": [
    {
     "data": {
      "text/plain": [
       "<Table length=3>\n",
       " shape [2]   slit_spat_pos [2] slit_spec_pos ... boxcar optimal\n",
       "   int64          float64         float64    ... object  object\n",
       "------------ ----------------- ------------- ... ------ -------\n",
       "1024 .. 2048    800.0 .. 810.0        1240.0 ...     {}      {}\n",
       "1024 .. 2048    400.0 .. 430.0        1240.0 ...     {}      {}\n",
       "1024 .. 2048    200.0 .. 220.0        1240.0 ...     {}      {}"
      ]
     },
     "execution_count": 14,
     "metadata": {},
     "output_type": "execute_result"
    }
   ],
   "source": [
    "sobjs"
   ]
  },
  {
   "cell_type": "markdown",
   "metadata": {},
   "source": [
    "## Remove an obj"
   ]
  },
  {
   "cell_type": "code",
   "execution_count": 15,
   "metadata": {
    "collapsed": true
   },
   "outputs": [],
   "source": [
    "sobjs.remove_sobj(2)"
   ]
  },
  {
   "cell_type": "code",
   "execution_count": 16,
   "metadata": {},
   "outputs": [
    {
     "data": {
      "text/plain": [
       "<Table length=2>\n",
       " shape [2]   slit_spat_pos [2] slit_spec_pos ... boxcar optimal\n",
       "   int64          float64         float64    ... object  object\n",
       "------------ ----------------- ------------- ... ------ -------\n",
       "1024 .. 2048    800.0 .. 810.0        1240.0 ...     {}      {}\n",
       "1024 .. 2048    400.0 .. 430.0        1240.0 ...     {}      {}"
      ]
     },
     "execution_count": 16,
     "metadata": {},
     "output_type": "execute_result"
    }
   ],
   "source": [
    "sobjs"
   ]
  },
  {
   "cell_type": "markdown",
   "metadata": {},
   "source": [
    "## Set"
   ]
  },
  {
   "cell_type": "markdown",
   "metadata": {},
   "source": [
    "### As item"
   ]
  },
  {
   "cell_type": "code",
   "execution_count": 17,
   "metadata": {
    "collapsed": true
   },
   "outputs": [],
   "source": [
    "sobjs['det'] = 3"
   ]
  },
  {
   "cell_type": "code",
   "execution_count": 18,
   "metadata": {},
   "outputs": [
    {
     "data": {
      "text/plain": [
       "array([3, 3])"
      ]
     },
     "execution_count": 18,
     "metadata": {},
     "output_type": "execute_result"
    }
   ],
   "source": [
    "sobjs.det"
   ]
  },
  {
   "cell_type": "markdown",
   "metadata": {},
   "source": [
    "### With slice"
   ]
  },
  {
   "cell_type": "code",
   "execution_count": 19,
   "metadata": {},
   "outputs": [
    {
     "data": {
      "text/plain": [
       "array([3, 2])"
      ]
     },
     "execution_count": 19,
     "metadata": {},
     "output_type": "execute_result"
    }
   ],
   "source": [
    "sobjs[1:2]['det'] = 2\n",
    "sobjs.det"
   ]
  },
  {
   "cell_type": "markdown",
   "metadata": {},
   "source": [
    "### Underlying method"
   ]
  },
  {
   "cell_type": "code",
   "execution_count": 20,
   "metadata": {
    "collapsed": true
   },
   "outputs": [],
   "source": [
    "sobjs.set(0, 'det', 3)\n",
    "sobjs.set(slice(1,2), 'det', 1)"
   ]
  },
  {
   "cell_type": "code",
   "execution_count": 21,
   "metadata": {},
   "outputs": [
    {
     "data": {
      "text/plain": [
       "array([3, 1])"
      ]
     },
     "execution_count": 21,
     "metadata": {},
     "output_type": "execute_result"
    }
   ],
   "source": [
    "sobjs.det"
   ]
  },
  {
   "cell_type": "markdown",
   "metadata": {
    "collapsed": true
   },
   "source": [
    "----"
   ]
  },
  {
   "cell_type": "code",
   "execution_count": null,
   "metadata": {
    "collapsed": true
   },
   "outputs": [],
   "source": []
  }
 ],
 "metadata": {
  "kernelspec": {
   "display_name": "Python 3",
   "language": "python",
   "name": "python3"
  },
  "language_info": {
   "codemirror_mode": {
    "name": "ipython",
    "version": 3
   },
   "file_extension": ".py",
   "mimetype": "text/x-python",
   "name": "python",
   "nbconvert_exporter": "python",
   "pygments_lexer": "ipython3",
   "version": "3.6.3"
  }
 },
 "nbformat": 4,
 "nbformat_minor": 2
}
